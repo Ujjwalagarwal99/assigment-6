{
 "cells": [
  {
   "cell_type": "code",
   "execution_count": 1,
   "id": "f91916c4-2b0a-4dc7-9404-eacd00fbc842",
   "metadata": {},
   "outputs": [],
   "source": [
    "## class is a blueprint or template for creating objects while an object is an instance of a class.\n",
    "class test():\n",
    "    pass\n",
    "a=test()"
   ]
  },
  {
   "cell_type": "code",
   "execution_count": 2,
   "id": "f803e94e-edb4-4144-bbeb-c86371b59cbb",
   "metadata": {},
   "outputs": [],
   "source": [
    "## Encapsulation, Abstraction, Inheritance, Polymorphism"
   ]
  },
  {
   "cell_type": "code",
   "execution_count": 6,
   "id": "035e3cf1-c216-4fde-a054-9f21f8e9a1b1",
   "metadata": {},
   "outputs": [
    {
     "ename": "NameError",
     "evalue": "name 'car' is not defined",
     "output_type": "error",
     "traceback": [
      "\u001b[0;31m---------------------------------------------------------------------------\u001b[0m",
      "\u001b[0;31mNameError\u001b[0m                                 Traceback (most recent call last)",
      "Cell \u001b[0;32mIn[6], line 2\u001b[0m\n\u001b[1;32m      1\u001b[0m \u001b[38;5;66;03m## It is special method that is called when an oject is created from a class. Used to initialize attributes of oject.\u001b[39;00m\n\u001b[0;32m----> 2\u001b[0m \u001b[38;5;28;01mclass\u001b[39;00m \u001b[38;5;21;01mcar\u001b[39;00m:\n\u001b[1;32m      3\u001b[0m     \u001b[38;5;28;01mdef\u001b[39;00m \u001b[38;5;21m__init__\u001b[39m(\u001b[38;5;28mself\u001b[39m,year,make):\n\u001b[1;32m      4\u001b[0m         \u001b[38;5;28mself\u001b[39m\u001b[38;5;241m.\u001b[39m__year\u001b[38;5;241m=\u001b[39myear\n",
      "Cell \u001b[0;32mIn[6], line 6\u001b[0m, in \u001b[0;36mcar\u001b[0;34m()\u001b[0m\n\u001b[1;32m      4\u001b[0m     \u001b[38;5;28mself\u001b[39m\u001b[38;5;241m.\u001b[39m__year\u001b[38;5;241m=\u001b[39myear\n\u001b[1;32m      5\u001b[0m     \u001b[38;5;28mself\u001b[39m\u001b[38;5;241m.\u001b[39m__make\u001b[38;5;241m=\u001b[39mmake\n\u001b[0;32m----> 6\u001b[0m c\u001b[38;5;241m=\u001b[39m\u001b[43mcar\u001b[49m(\u001b[38;5;241m2023\u001b[39m,\u001b[38;5;124m\"\u001b[39m\u001b[38;5;124mAudi\u001b[39m\u001b[38;5;124m\"\u001b[39m)\n\u001b[1;32m      7\u001b[0m c\u001b[38;5;241m.\u001b[39mcar__year\n",
      "\u001b[0;31mNameError\u001b[0m: name 'car' is not defined"
     ]
    }
   ],
   "source": [
    "## It is special method that is called when an oject is created from a class. Used to initialize attributes of oject.\n",
    "class car:\n",
    "    def __init__(self,year,make):\n",
    "        self.__year=year\n",
    "        self.__make=make\n",
    "    c=car(2023,\"Audi\")\n",
    "    c.car__year"
   ]
  },
  {
   "cell_type": "code",
   "execution_count": 7,
   "id": "4faca007-8568-453b-bca5-b749d587ce99",
   "metadata": {},
   "outputs": [],
   "source": [
    "## It refers to instance of class that is currently being operated on. It is  a keyword refer to object being manipulated within a method."
   ]
  },
  {
   "cell_type": "code",
   "execution_count": 9,
   "id": "230d10fd-5944-4dbf-ae4e-e0256567454b",
   "metadata": {},
   "outputs": [
    {
     "data": {
      "text/plain": [
       "'In which one class inherits all the properties of another class.\\nHierarhical , Multiple , Single , Hybrid , Multilevel'"
      ]
     },
     "execution_count": 9,
     "metadata": {},
     "output_type": "execute_result"
    }
   ],
   "source": [
    "\"\"\"In which one class inherits all the properties of another class.\n",
    "Hierarhical , Multiple , Single , Hybrid , Multilevel\"\"\"\n"
   ]
  },
  {
   "cell_type": "code",
   "execution_count": null,
   "id": "9e97f9e7-4128-4b24-979e-d9bc1b8137a6",
   "metadata": {},
   "outputs": [],
   "source": []
  }
 ],
 "metadata": {
  "kernelspec": {
   "display_name": "Python 3 (ipykernel)",
   "language": "python",
   "name": "python3"
  },
  "language_info": {
   "codemirror_mode": {
    "name": "ipython",
    "version": 3
   },
   "file_extension": ".py",
   "mimetype": "text/x-python",
   "name": "python",
   "nbconvert_exporter": "python",
   "pygments_lexer": "ipython3",
   "version": "3.10.8"
  }
 },
 "nbformat": 4,
 "nbformat_minor": 5
}
